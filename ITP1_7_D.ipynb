{
 "cells": [
  {
   "cell_type": "code",
   "execution_count": 2,
   "metadata": {},
   "outputs": [
    {
     "name": "stdout",
     "output_type": "stream",
     "text": [
      "3 2 3\n",
      "1 2\n",
      "0 3\n",
      "4 5\n",
      "1 2 1\n",
      "0 3 2\n",
      "1 8 5\n",
      "0 9 6\n",
      "4 23 14\n"
     ]
    }
   ],
   "source": [
    "n, m, l = map(int, input().split())\n",
    "\n",
    "matrix_A = [list(map(int, input().split())) for _ in range(n)]\n",
    "matrix_B = [list(map(int, input().split())) for _ in range(m)]\n",
    "\n",
    "matrix_B_transposed  = list(map(list, zip(*matrix_B)))\n",
    "\n",
    "for a in matrix_A:\n",
    "    c = []\n",
    "    for bt in matrix_B_transposed:\n",
    "        c.append(sum(x * y for (x, y) in zip(a, bt)))\n",
    "    print(*c)"
   ]
  },
  {
   "cell_type": "code",
   "execution_count": null,
   "metadata": {},
   "outputs": [],
   "source": []
  }
 ],
 "metadata": {
  "kernelspec": {
   "display_name": "Python 3",
   "language": "python",
   "name": "python3"
  },
  "language_info": {
   "codemirror_mode": {
    "name": "ipython",
    "version": 3
   },
   "file_extension": ".py",
   "mimetype": "text/x-python",
   "name": "python",
   "nbconvert_exporter": "python",
   "pygments_lexer": "ipython3",
   "version": "3.7.6"
  }
 },
 "nbformat": 4,
 "nbformat_minor": 4
}
