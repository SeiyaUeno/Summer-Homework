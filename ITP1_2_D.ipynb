{
 "cells": [
  {
   "cell_type": "code",
   "execution_count": 3,
   "metadata": {},
   "outputs": [
    {
     "name": "stdout",
     "output_type": "stream",
     "text": [
      "5 4 2 4 1\n",
      "No\n"
     ]
    }
   ],
   "source": [
    "a = list(map(int, input().split()))\n",
    "W=a[0]\n",
    "H=a[1]\n",
    "x=a[2]\n",
    "y=a[3]\n",
    "r=a[4]\n",
    "if -100<=x<=100 and -100<=y<=100 and 0<W<=100 and 0<H<=100 and 0<r<=100 and x+r<=W and y+r<=H and 0<=x-r and 0<=y-r:\n",
    "    print(\"Yes\")\n",
    "else:\n",
    "    print(\"No\")"
   ]
  },
  {
   "cell_type": "code",
   "execution_count": null,
   "metadata": {},
   "outputs": [],
   "source": []
  }
 ],
 "metadata": {
  "kernelspec": {
   "display_name": "Python 3",
   "language": "python",
   "name": "python3"
  },
  "language_info": {
   "codemirror_mode": {
    "name": "ipython",
    "version": 3
   },
   "file_extension": ".py",
   "mimetype": "text/x-python",
   "name": "python",
   "nbconvert_exporter": "python",
   "pygments_lexer": "ipython3",
   "version": "3.7.6"
  }
 },
 "nbformat": 4,
 "nbformat_minor": 4
}
