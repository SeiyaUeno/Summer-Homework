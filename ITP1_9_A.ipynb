{
 "cells": [
  {
   "cell_type": "code",
   "execution_count": 1,
   "metadata": {},
   "outputs": [
    {
     "name": "stdout",
     "output_type": "stream",
     "text": [
      "computer\n",
      "Nurtures computer scientists and highly-skilled computer engineers who will create and exploit \"knowledge\" for the new era. Provides an outstanding computer environment. END_OF_TEXT\n",
      "END_OF_TEXT\n",
      "3\n"
     ]
    }
   ],
   "source": [
    "count = 0\n",
    "W = input().lower()\n",
    "\n",
    "while True:\n",
    "    T = input()\n",
    "    if T == 'END_OF_TEXT':\n",
    "        break\n",
    "    count += T.lower().split().count(W)\n",
    "\n",
    "print(count)"
   ]
  },
  {
   "cell_type": "code",
   "execution_count": null,
   "metadata": {},
   "outputs": [],
   "source": []
  }
 ],
 "metadata": {
  "kernelspec": {
   "display_name": "Python 3",
   "language": "python",
   "name": "python3"
  },
  "language_info": {
   "codemirror_mode": {
    "name": "ipython",
    "version": 3
   },
   "file_extension": ".py",
   "mimetype": "text/x-python",
   "name": "python",
   "nbconvert_exporter": "python",
   "pygments_lexer": "ipython3",
   "version": "3.7.6"
  }
 },
 "nbformat": 4,
 "nbformat_minor": 4
}
