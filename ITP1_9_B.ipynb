{
 "cells": [
  {
   "cell_type": "code",
   "execution_count": 1,
   "metadata": {},
   "outputs": [
    {
     "name": "stdout",
     "output_type": "stream",
     "text": [
      "aabc\n",
      "3\n",
      "1\n",
      "2\n",
      "1\n",
      "aabc\n",
      "vwxyz\n",
      "2\n",
      "3\n",
      "4\n",
      "xyzvw\n",
      "-\n"
     ]
    }
   ],
   "source": [
    "while True:\n",
    "    cards = input()\n",
    "    if cards == '-':\n",
    "        break\n",
    "    m = int(input())\n",
    "\n",
    "    for i in range(m):\n",
    "        h = int(input())\n",
    "        cards = cards[h:] + cards[:h]\n",
    "\n",
    "    print(cards)"
   ]
  },
  {
   "cell_type": "code",
   "execution_count": null,
   "metadata": {},
   "outputs": [],
   "source": []
  }
 ],
 "metadata": {
  "kernelspec": {
   "display_name": "Python 3",
   "language": "python",
   "name": "python3"
  },
  "language_info": {
   "codemirror_mode": {
    "name": "ipython",
    "version": 3
   },
   "file_extension": ".py",
   "mimetype": "text/x-python",
   "name": "python",
   "nbconvert_exporter": "python",
   "pygments_lexer": "ipython3",
   "version": "3.7.6"
  }
 },
 "nbformat": 4,
 "nbformat_minor": 4
}
