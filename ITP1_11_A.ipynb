{
 "cells": [
  {
   "cell_type": "code",
   "execution_count": 1,
   "metadata": {},
   "outputs": [
    {
     "name": "stdout",
     "output_type": "stream",
     "text": [
      "1 2 4 8 16 32\n",
      "SE\n",
      "8\n"
     ]
    }
   ],
   "source": [
    "class dice:\n",
    "    def __init__(self,label):\n",
    "        self.top, self.front, self.right, self.left, self.rear, self.bottom \\\n",
    "                = label\n",
    "    def roll(self,op):\n",
    "        if   op=='N': self.top, self.front, self.bottom, self.rear = \\\n",
    "                                self.front, self.bottom, self.rear , self.top\n",
    "        elif op=='E': self.top, self.left , self.bottom, self.right = \\\n",
    "                                self.left , self.bottom, self.right, self.top\n",
    "        elif op=='W': self.top, self.right, self.bottom, self.left = \\\n",
    "                                self.right, self.bottom, self.left , self.top\n",
    "        elif op=='S': self.top, self.rear , self.bottom, self.front = \\\n",
    "                                self.rear , self.bottom, self.front, self.top\n",
    "    def print_top(self): print(self.top)\n",
    "  \n",
    "label = list(map(int,input().split()))\n",
    "op_list = list(input())\n",
    "d = dice(label)\n",
    "for op in op_list:\n",
    "    d.roll(op)\n",
    "d.print_top()"
   ]
  },
  {
   "cell_type": "code",
   "execution_count": null,
   "metadata": {},
   "outputs": [],
   "source": []
  }
 ],
 "metadata": {
  "kernelspec": {
   "display_name": "Python 3",
   "language": "python",
   "name": "python3"
  },
  "language_info": {
   "codemirror_mode": {
    "name": "ipython",
    "version": 3
   },
   "file_extension": ".py",
   "mimetype": "text/x-python",
   "name": "python",
   "nbconvert_exporter": "python",
   "pygments_lexer": "ipython3",
   "version": "3.7.6"
  }
 },
 "nbformat": 4,
 "nbformat_minor": 4
}
