{
 "cells": [
  {
   "cell_type": "code",
   "execution_count": 10,
   "metadata": {},
   "outputs": [
    {
     "name": "stdout",
     "output_type": "stream",
     "text": [
      "5 5\n",
      "a==b\n"
     ]
    }
   ],
   "source": [
    "x = list(map(int, input().split()))\n",
    "a=x[0]\n",
    "b=x[1]\n",
    "\n",
    "if -1000<=a and b<=1000 and a<b:\n",
    "    print(\"a<b\")\n",
    "if -1000<=a and b<=1000 and a>b:\n",
    "        print(\"a>b\")\n",
    "if -1000<=a and b<=1000 and a==b:\n",
    "        print(\"a==b\")"
   ]
  },
  {
   "cell_type": "code",
   "execution_count": null,
   "metadata": {},
   "outputs": [],
   "source": []
  }
 ],
 "metadata": {
  "kernelspec": {
   "display_name": "Python 3",
   "language": "python",
   "name": "python3"
  },
  "language_info": {
   "codemirror_mode": {
    "name": "ipython",
    "version": 3
   },
   "file_extension": ".py",
   "mimetype": "text/x-python",
   "name": "python",
   "nbconvert_exporter": "python",
   "pygments_lexer": "ipython3",
   "version": "3.7.6"
  }
 },
 "nbformat": 4,
 "nbformat_minor": 4
}
