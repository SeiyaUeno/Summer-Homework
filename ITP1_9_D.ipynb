{
 "cells": [
  {
   "cell_type": "code",
   "execution_count": 2,
   "metadata": {},
   "outputs": [
    {
     "name": "stdout",
     "output_type": "stream",
     "text": [
      "abcde\n",
      "3\n",
      "replace 1 3 xyz\n",
      "reverse 0 2\n",
      "print 1 4\n",
      "xaze\n"
     ]
    }
   ],
   "source": [
    "str = input()\n",
    "q = int(input())\n",
    "\n",
    "for _ in range(q):\n",
    "    line = input().split()\n",
    "    c = line[0]\n",
    "    a = int(line[1])\n",
    "    b = int(line[2]) + 1\n",
    "\n",
    "    if c == 'replace':\n",
    "        str = str[:a] + line[3] + str[b:]\n",
    "    elif c == 'reverse':\n",
    "        str = str[:a] + str[a:b][::-1] + str[b:]\n",
    "    else:\n",
    "        print(str[a:b])"
   ]
  },
  {
   "cell_type": "code",
   "execution_count": null,
   "metadata": {},
   "outputs": [],
   "source": []
  }
 ],
 "metadata": {
  "kernelspec": {
   "display_name": "Python 3",
   "language": "python",
   "name": "python3"
  },
  "language_info": {
   "codemirror_mode": {
    "name": "ipython",
    "version": 3
   },
   "file_extension": ".py",
   "mimetype": "text/x-python",
   "name": "python",
   "nbconvert_exporter": "python",
   "pygments_lexer": "ipython3",
   "version": "3.7.6"
  }
 },
 "nbformat": 4,
 "nbformat_minor": 4
}
