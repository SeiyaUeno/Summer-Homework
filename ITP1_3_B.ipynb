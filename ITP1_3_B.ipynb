{
 "cells": [
  {
   "cell_type": "code",
   "execution_count": 1,
   "metadata": {},
   "outputs": [
    {
     "name": "stdout",
     "output_type": "stream",
     "text": [
      "3\n",
      "Case 1: 3\n",
      "5\n",
      "Case 2: 5\n",
      "11\n",
      "Case 3: 11\n",
      "7\n",
      "Case 4: 7\n",
      "8\n",
      "Case 5: 8\n",
      "19\n",
      "Case 6: 19\n",
      "0\n"
     ]
    }
   ],
   "source": [
    "num = 1\n",
    "while True:\n",
    "    x = int(input())\n",
    "    if x == 0: break\n",
    "    print (\"Case {0}: {1}\".format(num,x))\n",
    "    num += 1"
   ]
  },
  {
   "cell_type": "code",
   "execution_count": null,
   "metadata": {},
   "outputs": [],
   "source": []
  }
 ],
 "metadata": {
  "kernelspec": {
   "display_name": "Python 3",
   "language": "python",
   "name": "python3"
  },
  "language_info": {
   "codemirror_mode": {
    "name": "ipython",
    "version": 3
   },
   "file_extension": ".py",
   "mimetype": "text/x-python",
   "name": "python",
   "nbconvert_exporter": "python",
   "pygments_lexer": "ipython3",
   "version": "3.7.6"
  }
 },
 "nbformat": 4,
 "nbformat_minor": 4
}
