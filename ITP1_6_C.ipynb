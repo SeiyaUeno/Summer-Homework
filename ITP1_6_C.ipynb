{
 "cells": [
  {
   "cell_type": "code",
   "execution_count": 1,
   "metadata": {},
   "outputs": [
    {
     "name": "stdout",
     "output_type": "stream",
     "text": [
      "3\n",
      "1 1 3 8\n",
      "3 2 2 7\n",
      "4 3 8 1\n",
      " 0 0 8 0 0 0 0 0 0 0\n",
      " 0 0 0 0 0 0 0 0 0 0\n",
      " 0 0 0 0 0 0 0 0 0 0\n",
      "####################\n",
      " 0 0 0 0 0 0 0 0 0 0\n",
      " 0 0 0 0 0 0 0 0 0 0\n",
      " 0 0 0 0 0 0 0 0 0 0\n",
      "####################\n",
      " 0 0 0 0 0 0 0 0 0 0\n",
      " 0 7 0 0 0 0 0 0 0 0\n",
      " 0 0 0 0 0 0 0 0 0 0\n",
      "####################\n",
      " 0 0 0 0 0 0 0 0 0 0\n",
      " 0 0 0 0 0 0 0 0 0 0\n",
      " 0 0 0 0 0 0 0 1 0 0\n"
     ]
    }
   ],
   "source": [
    "houses = [[[0 for r in range(10)] for f in range(3)] for b in range(4)]\n",
    "\n",
    "n = int(input())\n",
    "\n",
    "for i in range(n):\n",
    "    b, f, r, v = map(int, input().split())\n",
    "    houses[b - 1][f - 1][r - 1] += v\n",
    "\n",
    "for b in range(4):\n",
    "    for f in houses[b]:\n",
    "        print('', *f)\n",
    "    if b != 3:\n",
    "        print('#' * 20)"
   ]
  },
  {
   "cell_type": "code",
   "execution_count": null,
   "metadata": {},
   "outputs": [],
   "source": []
  }
 ],
 "metadata": {
  "kernelspec": {
   "display_name": "Python 3",
   "language": "python",
   "name": "python3"
  },
  "language_info": {
   "codemirror_mode": {
    "name": "ipython",
    "version": 3
   },
   "file_extension": ".py",
   "mimetype": "text/x-python",
   "name": "python",
   "nbconvert_exporter": "python",
   "pygments_lexer": "ipython3",
   "version": "3.7.6"
  }
 },
 "nbformat": 4,
 "nbformat_minor": 4
}
