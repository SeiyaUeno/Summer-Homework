{
 "cells": [
  {
   "cell_type": "code",
   "execution_count": 1,
   "metadata": {},
   "outputs": [
    {
     "name": "stdout",
     "output_type": "stream",
     "text": [
      "40 42 -1\n",
      "A\n",
      "20 30 -1\n",
      "C\n",
      "0 2 -1\n",
      "F\n",
      "-1 -1 -1\n"
     ]
    }
   ],
   "source": [
    "while True:\n",
    "    m, f, r = map(int, input().split())\n",
    "    score = m + f\n",
    "    if m == f == r == -1:\n",
    "        break\n",
    "    elif m == -1 or f == -1:\n",
    "        print('F')\n",
    "    elif score >= 80:\n",
    "        print('A')\n",
    "    elif score >= 65:\n",
    "        print('B')\n",
    "    elif score >= 50 or (score >= 30 and r >= 50):\n",
    "        print('C')\n",
    "    elif score >= 30:\n",
    "        print('D')\n",
    "    else:\n",
    "        print('F')"
   ]
  },
  {
   "cell_type": "code",
   "execution_count": null,
   "metadata": {},
   "outputs": [],
   "source": []
  }
 ],
 "metadata": {
  "kernelspec": {
   "display_name": "Python 3",
   "language": "python",
   "name": "python3"
  },
  "language_info": {
   "codemirror_mode": {
    "name": "ipython",
    "version": 3
   },
   "file_extension": ".py",
   "mimetype": "text/x-python",
   "name": "python",
   "nbconvert_exporter": "python",
   "pygments_lexer": "ipython3",
   "version": "3.7.6"
  }
 },
 "nbformat": 4,
 "nbformat_minor": 4
}
