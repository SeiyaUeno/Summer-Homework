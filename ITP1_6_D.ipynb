{
 "cells": [
  {
   "cell_type": "code",
   "execution_count": 14,
   "metadata": {},
   "outputs": [
    {
     "name": "stdout",
     "output_type": "stream",
     "text": [
      "3 4\n",
      "1 2 0 1\n",
      "0 3 0 1\n",
      "4 1 1 0\n",
      "1\n",
      "2\n",
      "3\n",
      "0\n",
      "5\n",
      "6\n",
      "9\n"
     ]
    }
   ],
   "source": [
    "n, m = map(int, input().split())\n",
    "\n",
    "A = []\n",
    "b = []\n",
    "\n",
    "# 行列Aに要素を追加\n",
    "for i in range(n):\n",
    "    A.append([int(s) for s in input().split()])\n",
    "\n",
    "# 列ベクトルbに要素を追加\n",
    "for i in range(m):\n",
    "    b.append([int(input())])\n",
    "\n",
    "# Aとbの積を出力\n",
    "for i in range(n):\n",
    "    p = 0\n",
    "    # 列ベクトルc_iを求める\n",
    "    for j in range(m):\n",
    "        p += A[i][j] * b[j][0]\n",
    "    # 列ベクトルc_iを出力\n",
    "    print(p)"
   ]
  },
  {
   "cell_type": "markdown",
   "metadata": {},
   "source": []
  }
 ],
 "metadata": {
  "kernelspec": {
   "display_name": "Python 3",
   "language": "python",
   "name": "python3"
  },
  "language_info": {
   "codemirror_mode": {
    "name": "ipython",
    "version": 3
   },
   "file_extension": ".py",
   "mimetype": "text/x-python",
   "name": "python",
   "nbconvert_exporter": "python",
   "pygments_lexer": "ipython3",
   "version": "3.7.6"
  }
 },
 "nbformat": 4,
 "nbformat_minor": 4
}
