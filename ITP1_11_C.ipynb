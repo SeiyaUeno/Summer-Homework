{
 "cells": [
  {
   "cell_type": "code",
   "execution_count": 1,
   "metadata": {},
   "outputs": [
    {
     "name": "stdout",
     "output_type": "stream",
     "text": [
      "1 2 3 4 5 6\n",
      "6 2 4 3 5 1\n",
      "Yes\n"
     ]
    }
   ],
   "source": [
    "class dice:\n",
    "    def __init__(self,label):\n",
    "        self.top, self.front, self.right, self.left, self.rear, self.bottom \\\n",
    "                = label\n",
    "  \n",
    "    def roll(self,op):\n",
    "        if   op=='N': self.top, self.front, self.bottom, self.rear = \\\n",
    "                                self.front, self.bottom, self.rear , self.top\n",
    "        elif op=='E': self.top, self.left , self.bottom, self.right = \\\n",
    "                                self.left , self.bottom, self.right, self.top\n",
    "        elif op=='W': self.top, self.right, self.bottom, self.left = \\\n",
    "                                self.right, self.bottom, self.left , self.top\n",
    "        elif op=='S': self.top, self.rear , self.bottom, self.front = \\\n",
    "                                self.rear , self.bottom, self.front, self.top\n",
    "  \n",
    "    def print_top(self): print(self.top)\n",
    "    def print_right(self): print(self.right)\n",
    "  \n",
    "    def get_label(self):\n",
    "        return [self.top, self.front, self.right, self.left, self.rear, self.bottom]\n",
    "   \n",
    "label = list(map(int,input().split()))\n",
    "d0 = dice(label)\n",
    "d1 = list(map(int,input().split()))\n",
    "for op in 'EEENEEENEEESEEESEEENEEEN':\n",
    "    if d0.get_label() == d1:\n",
    "        print('Yes')\n",
    "        break\n",
    "    d0.roll(op)\n",
    "else:\n",
    "    print('No')"
   ]
  },
  {
   "cell_type": "code",
   "execution_count": null,
   "metadata": {},
   "outputs": [],
   "source": []
  }
 ],
 "metadata": {
  "kernelspec": {
   "display_name": "Python 3",
   "language": "python",
   "name": "python3"
  },
  "language_info": {
   "codemirror_mode": {
    "name": "ipython",
    "version": 3
   },
   "file_extension": ".py",
   "mimetype": "text/x-python",
   "name": "python",
   "nbconvert_exporter": "python",
   "pygments_lexer": "ipython3",
   "version": "3.7.6"
  }
 },
 "nbformat": 4,
 "nbformat_minor": 4
}
