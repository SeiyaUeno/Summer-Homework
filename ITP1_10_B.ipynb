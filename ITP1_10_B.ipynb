{
 "cells": [
  {
   "cell_type": "code",
   "execution_count": 1,
   "metadata": {},
   "outputs": [
    {
     "name": "stdout",
     "output_type": "stream",
     "text": [
      "4 3 90\n",
      "6.000000\n",
      "12.000000\n",
      "3.000000\n"
     ]
    }
   ],
   "source": [
    "import math\n",
    "\n",
    "a, b, C = map(float, input().split())\n",
    "S =  0.5 * a * b * math.sin(C * math.pi / 180)\n",
    "L = a + b + (a ** 2 + b ** 2 - 2 * a * b * math.cos(C * math.pi / 180)) ** 0.5\n",
    "h = 2 * S / a\n",
    "\n",
    "print(\"%f\\n%f\\n%f\" % (S, L, h))"
   ]
  },
  {
   "cell_type": "code",
   "execution_count": null,
   "metadata": {},
   "outputs": [],
   "source": []
  }
 ],
 "metadata": {
  "kernelspec": {
   "display_name": "Python 3",
   "language": "python",
   "name": "python3"
  },
  "language_info": {
   "codemirror_mode": {
    "name": "ipython",
    "version": 3
   },
   "file_extension": ".py",
   "mimetype": "text/x-python",
   "name": "python",
   "nbconvert_exporter": "python",
   "pygments_lexer": "ipython3",
   "version": "3.7.6"
  }
 },
 "nbformat": 4,
 "nbformat_minor": 4
}
